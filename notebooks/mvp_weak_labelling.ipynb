{
 "cells": [
  {
   "cell_type": "code",
   "execution_count": null,
   "metadata": {},
   "outputs": [],
   "source": [
    "import os\n",
    "import random\n",
    "import sys\n",
    "\n",
    "current_dir = os.getcwd()\n",
    "parent_dir = os.path.dirname(current_dir)\n",
    "\n",
    "sys.path.append(parent_dir)\n",
    "\n",
    "DEV_SET_FRAC = 0.001\n",
    "OVERWRITE_SETS_WITH_DEV = True\n",
    "os.environ[\"WANDB_PROJECT\"]=\"lang-based-yappers/amazon_sentiment_analysis\"\n",
    "SEED = 1337"
   ]
  },
  {
   "cell_type": "code",
   "execution_count": null,
   "metadata": {},
   "outputs": [],
   "source": [
    "import random\n",
    "\n",
    "import numpy as np\n",
    "import torch\n",
    "\n",
    "torch.use_deterministic_algorithms(True)\n",
    "\n",
    "device = torch.device('cuda') if torch.cuda.is_available() else torch.device('mps') if torch.backends.mps.is_available() else torch.device('cpu')\n",
    "print('Device:', device)\n",
    "\n",
    "def set_seed():\n",
    "    random.seed(SEED)\n",
    "    np.random.seed(SEED)\n",
    "\n",
    "    torch.manual_seed(SEED)\n",
    "    if torch.cuda.is_available():\n",
    "        torch.cuda.manual_seed(SEED)\n",
    "        torch.cuda.manual_seed_all(SEED)\n",
    "\n",
    "    torch.backends.cudnn.deterministic = True\n",
    "    torch.backends.cudnn.benchmark = False\n",
    "\n",
    "\n",
    "set_seed()"
   ]
  },
  {
   "cell_type": "code",
   "execution_count": null,
   "metadata": {},
   "outputs": [],
   "source": [
    "from datasets import load_dataset\n",
    "\n",
    "dataset = load_dataset(\"amazon_polarity\")\n",
    "dataset"
   ]
  },
  {
   "cell_type": "code",
   "execution_count": null,
   "metadata": {},
   "outputs": [],
   "source": [
    "train_ds, test_ds = dataset['train'], dataset['test']\n",
    "train_df, test_df = train_ds.to_pandas(), test_ds.to_pandas()"
   ]
  },
  {
   "cell_type": "code",
   "execution_count": null,
   "metadata": {},
   "outputs": [],
   "source": [
    "train_df_dev = train_df.sample(frac=DEV_SET_FRAC, random_state=1337)\n",
    "test_df_dev = test_df.sample(frac=DEV_SET_FRAC, random_state=1337)\n",
    "\n",
    "if OVERWRITE_SETS_WITH_DEV:\n",
    "    train_df = train_df_dev\n",
    "    test_df = test_df_dev\n",
    "    \n",
    "    train_ds = train_ds.select(range(len(train_df)))\n",
    "    test_ds = test_ds.select(range(len(test_df)))\n",
    "\n",
    "y_train, y_test = train_df['label'], test_df['label']\n",
    "print(f\"Training data shape: {train_df_dev.shape}, Testing data shape: {test_df_dev.shape}\")"
   ]
  },
  {
   "cell_type": "markdown",
   "metadata": {},
   "source": [
    "# Embedding"
   ]
  },
  {
   "cell_type": "markdown",
   "metadata": {},
   "source": [
    "## TF-IDF"
   ]
  },
  {
   "cell_type": "code",
   "execution_count": null,
   "metadata": {},
   "outputs": [],
   "source": [
    "from sklearn.feature_extraction.text import TfidfVectorizer\n",
    "\n",
    "\n",
    "def fit_tf_idf_vectorizer(train_df, test_df):\n",
    "    vectorizer = TfidfVectorizer(stop_words='english', max_features=10000)\n",
    "    X_train_tfidf = vectorizer.fit_transform(train_df['content'])\n",
    "    X_test_tfidf = vectorizer.transform(test_df['content'])\n",
    "    return X_train_tfidf, X_test_tfidf\n",
    "\n",
    "\n",
    "X_train_tfidf, X_test_tfidf = fit_tf_idf_vectorizer(train_df, test_df)"
   ]
  },
  {
   "cell_type": "markdown",
   "metadata": {},
   "source": [
    "## BERT with Average Pooling"
   ]
  },
  {
   "cell_type": "code",
   "execution_count": null,
   "metadata": {},
   "outputs": [],
   "source": [
    "from transformers import AutoTokenizer, BertModel\n",
    "import torch\n",
    "\n",
    "tokenizer = AutoTokenizer.from_pretrained(\"google-bert/bert-base-uncased\", force_download=True)\n",
    "\n",
    "model = BertModel.from_pretrained(\"google-bert/bert-base-uncased\", force_download=True)\n",
    "model.to(device)\n",
    "\n",
    "\n",
    "def get_bert_embedding(text):\n",
    "    inputs = tokenizer(text, return_tensors=\"pt\").to(device)\n",
    "    with torch.no_grad():\n",
    "        outputs = model(**inputs)\n",
    "        last_hidden_states = outputs.last_hidden_state\n",
    "        return last_hidden_states\n",
    "\n",
    "\n",
    "def get_sentence_embedding(text):\n",
    "    with torch.no_grad():\n",
    "        last_hidden_states = get_bert_embedding(text)\n",
    "        return torch.mean(last_hidden_states, dim=1).squeeze()\n",
    "\n",
    "\n",
    "def fit_bert_vectorizer(train_df, test_df):\n",
    "    X_train_bert = torch.stack([get_sentence_embedding(text) for text in train_df['content']])\n",
    "    X_test_bert = torch.stack([get_sentence_embedding(text) for text in test_df['content']])\n",
    "    return X_train_bert, X_test_bert\n",
    "\n",
    "#X_train_bert, X_test_bert = fit_bert_vectorizer(train_df, test_df)"
   ]
  },
  {
   "cell_type": "markdown",
   "metadata": {},
   "source": [
    "## Sentence Transformers\n"
   ]
  },
  {
   "cell_type": "code",
   "execution_count": null,
   "metadata": {},
   "outputs": [],
   "source": [
    "from sentence_transformers import SentenceTransformer\n",
    "\n",
    "model = SentenceTransformer('all-MiniLM-L6-v2')\n",
    "model.to(device)\n",
    "\n",
    "\n",
    "def generate_embeddings(texts):\n",
    "    embeddings = model.encode(texts, show_progress_bar=True)\n",
    "    return embeddings\n",
    "\n",
    "\n",
    "# Generate embeddings for a small subset due to computational limits\n",
    "X_train_sentence_transformer = generate_embeddings(train_df['content'].values)\n",
    "X_test_sentence_transformer = generate_embeddings(test_df['content'].values)\n"
   ]
  },
  {
   "cell_type": "markdown",
   "metadata": {},
   "source": [
    "## KNeighbors Weak Labeling"
   ]
  },
  {
   "cell_type": "code",
   "execution_count": null,
   "metadata": {},
   "outputs": [],
   "source": [
    "from sklearn.neighbors import KNeighborsClassifier\n",
    "\n",
    "knn = KNeighborsClassifier(n_neighbors=40)\n",
    "knn.fit(X_train_sentence_transformer, y_train)"
   ]
  },
  {
   "cell_type": "code",
   "execution_count": null,
   "metadata": {},
   "outputs": [],
   "source": [
    "y_pred = knn.predict(X_test_sentence_transformer)"
   ]
  },
  {
   "cell_type": "code",
   "execution_count": null,
   "metadata": {},
   "outputs": [],
   "source": [
    "from sklearn.metrics import classification_report, accuracy_score\n",
    "\n",
    "print(classification_report(test_df['label'], y_pred))\n",
    "print(f\"Accuracy: {accuracy_score(test_df['label'], y_pred)}\")"
   ]
  },
  {
   "cell_type": "code",
   "execution_count": null,
   "metadata": {},
   "outputs": [],
   "source": [
    "from sklearn.model_selection import GridSearchCV\n",
    "\n",
    "param_grid = {\n",
    "    'n_neighbors': [10, 20, 30, 40, 50, 60, 70, 80, 90, 100, 200],\n",
    "    'weights': ['uniform', 'distance'],\n",
    "    'metric': ['euclidean', 'manhattan', 'minkowski']\n",
    "}\n",
    "\n",
    "grid_search = GridSearchCV(KNeighborsClassifier(),\n",
    "                           param_grid,\n",
    "                           n_jobs=-1,\n",
    "                           verbose=3)\n",
    "\n",
    "grid_search.fit(X_train_sentence_transformer, y_train)"
   ]
  },
  {
   "cell_type": "code",
   "execution_count": null,
   "metadata": {},
   "outputs": [],
   "source": [
    "import os\n",
    "import pickle\n",
    "\n",
    "MODELS_FOLDER = '../models'\n",
    "\n",
    "os.makedirs(MODELS_FOLDER, exist_ok=True)\n",
    "\n",
    "with open(f'{MODELS_FOLDER}/wl_knn.pkl', 'wb') as f:\n",
    "    pickle.dump(grid_search, f)"
   ]
  },
  {
   "cell_type": "code",
   "execution_count": null,
   "metadata": {},
   "outputs": [],
   "source": [
    "with open(f'{MODELS_FOLDER}/wl_knn.pkl', 'rb') as f:\n",
    "    knn = pickle.load(f)"
   ]
  },
  {
   "cell_type": "code",
   "execution_count": null,
   "metadata": {},
   "outputs": [],
   "source": [
    "print('--- Best KNN Parameters ---')\n",
    "print(f'Parameters: {grid_search.best_params_}')\n",
    "print(f'Score: {grid_search.best_score_:.2f}')\n",
    "\n",
    "knn_best = knn.best_estimator_\n",
    "knn_best.fit(X_train_sentence_transformer, y_train)\n",
    "y_pred = knn_best.predict(X_test_sentence_transformer)"
   ]
  },
  {
   "cell_type": "code",
   "execution_count": null,
   "metadata": {},
   "outputs": [],
   "source": [
    "from src.px_utils import create_dataset, launch_px\n",
    "\n",
    "test_ds = create_dataset(\"Test Dataset\", test_df, X_test_sentence_transformer.tolist(), y_pred)\n",
    "train_ds = create_dataset(\"Train Dataset\", train_df, X_train_sentence_transformer.tolist(), y_train)\n",
    "\n",
    "launch_px(test_ds, train_ds)"
   ]
  },
  {
   "cell_type": "markdown",
   "metadata": {},
   "source": [
    "## Logistic Regression Weak Labelling"
   ]
  },
  {
   "cell_type": "code",
   "execution_count": null,
   "metadata": {},
   "outputs": [],
   "source": [
    "from sklearn.linear_model import LogisticRegression\n",
    "\n",
    "logreg = LogisticRegression(max_iter=1000)\n",
    "logreg.fit(X_train_sentence_transformer, y_train)"
   ]
  },
  {
   "cell_type": "code",
   "execution_count": null,
   "metadata": {},
   "outputs": [],
   "source": [
    "logreg_pred = logreg.predict(X_test_sentence_transformer)\n",
    "\n",
    "print(classification_report(test_df['label'], logreg_pred))"
   ]
  }
 ],
 "metadata": {
  "kernelspec": {
   "display_name": ".venv",
   "language": "python",
   "name": "python3"
  },
  "language_info": {
   "codemirror_mode": {
    "name": "ipython",
    "version": 3
   },
   "file_extension": ".py",
   "mimetype": "text/x-python",
   "name": "python",
   "nbconvert_exporter": "python",
   "pygments_lexer": "ipython3",
   "version": "3.12.0"
  }
 },
 "nbformat": 4,
 "nbformat_minor": 2
}
