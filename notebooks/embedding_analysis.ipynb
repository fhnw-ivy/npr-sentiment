{
 "cells": [
  {
   "cell_type": "markdown",
   "metadata": {},
   "source": [
    "# Analysis of Embeddings"
   ]
  },
  {
   "cell_type": "markdown",
   "metadata": {},
   "source": [
    "The notebook at hand aims to dive into the possible patterns dimensionality reduction techniques can show within the proposed weak labeling models and the embedding models used."
   ]
  },
  {
   "cell_type": "markdown",
   "metadata": {},
   "source": [
    "## Loading Weak Labeled data"
   ]
  },
  {
   "cell_type": "code",
   "execution_count": null,
   "metadata": {},
   "outputs": [],
   "source": [
    "import os\n",
    "import sys\n",
    "from dotenv import load_dotenv\n",
    "\n",
    "import pandas as pd\n",
    "\n",
    "current_dir = os.getcwd()\n",
    "parent_dir = os.path.dirname(current_dir)\n",
    "\n",
    "sys.path.append(parent_dir)\n",
    "\n",
    "load_dotenv()"
   ]
  },
  {
   "cell_type": "code",
   "execution_count": null,
   "metadata": {},
   "outputs": [],
   "source": [
    "WL_DATA_DIR = os.getenv('DATA_DIR', 'data')\n",
    "WL_DATA_DIR = os.path.abspath(os.path.join(parent_dir, WL_DATA_DIR, 'weak_labelled'))\n",
    "\n",
    "weak_labelled = {}\n",
    "\n",
    "print(f\"Reading weak labelled data from {WL_DATA_DIR}\")\n",
    "for file in os.listdir(WL_DATA_DIR):\n",
    "    weak_labelled[file] = pd.read_parquet(os.path.join(WL_DATA_DIR, file))\n",
    "    print(f\"- Read {file}\")"
   ]
  },
  {
   "cell_type": "markdown",
   "metadata": {},
   "source": [
    "## Visualizing Labeled data\n",
    "To project the high dimensional embeddings into a humanly readable format we implemented Arize's Phoenix app that allows us to interactively look at the embedding space projected down into 3 dimensions by UMAP.\n",
    "\n",
    "Additionally, it might be insightful to also look at a different dimension reduction approach - Therefore we made the `plot_pca` function which will project the embedding space into two dimensions using PCA."
   ]
  },
  {
   "cell_type": "code",
   "execution_count": null,
   "metadata": {},
   "outputs": [],
   "source": [
    "import matplotlib.pyplot as plt\n",
    "import numpy as np\n",
    "import seaborn as sns\n",
    "from sklearn.decomposition import PCA\n",
    "from src.px_utils import create_dataset, launch_px\n",
    "\n",
    "def plot_pca(weak_labelled, key):\n",
    "    if key not in weak_labelled:\n",
    "        raise ValueError(f\"Key {key} not found in the weak_labelled dictionary.\")\n",
    "    \n",
    "    df = weak_labelled[key]\n",
    "\n",
    "    embeddings = np.vstack(df['embedding_vec'].values)\n",
    "    labels = np.array(df['label'].values)\n",
    "\n",
    "    pca = PCA(n_components=2)\n",
    "    reduced_embeddings = pca.fit_transform(embeddings)\n",
    "    \n",
    "    plt.figure(figsize=(12, 8))\n",
    "    pca_df = pd.DataFrame(reduced_embeddings, columns=['PCA1', 'PCA2'])\n",
    "    pca_df['Label'] = labels\n",
    "    \n",
    "    sns.scatterplot(x='PCA1', y='PCA2', hue='Label', palette='viridis', data=pca_df, alpha=0.6)\n",
    "    plt.suptitle(f'PCA of Embedding Vectors for {key}')\n",
    "    plt.title(f'Explained Variance: {pca.explained_variance_ratio_}')\n",
    "    plt.xlabel('PCA Component 1')\n",
    "    plt.ylabel('PCA Component 2')\n",
    "    plt.legend(title='Label')\n",
    "    plt.show()"
   ]
  },
  {
   "cell_type": "markdown",
   "metadata": {},
   "source": [
    "### KNN Weak Labels"
   ]
  },
  {
   "cell_type": "code",
   "execution_count": null,
   "metadata": {},
   "outputs": [],
   "source": [
    "knn_key = 'mlp_weak_labeling_weaklabels.parquet'\n",
    "\n",
    "knn_wl_ds = create_dataset('knn', weak_labelled[knn_key], \n",
    "                           weak_labelled[knn_key]['embedding_vec'], \n",
    "                           weak_labelled[knn_key]['label'])\n",
    "\n",
    "px_session = launch_px(knn_wl_ds, None)\n",
    "px_session.view()"
   ]
  },
  {
   "cell_type": "markdown",
   "metadata": {},
   "source": [
    "`Cluster 3` seems to clearly stand out from the other clusters. This cluster consists almost solely of music album reviews that were labeled with `1`, meaning a positive sentiment.\n",
    "\n",
    "Otherwise, the weak labeled embeddings don't show a specific pattern in the UMAP projection made by Phoenix."
   ]
  },
  {
   "cell_type": "markdown",
   "metadata": {},
   "source": [
    "Since Phoenix doesn't allow for a different dimension reduction technique we implement a PCA strategy ourselves. The UMAP technique differs vastly from PCA so looking at another technique could yield more interesting observations in the embedding space."
   ]
  },
  {
   "cell_type": "code",
   "execution_count": null,
   "metadata": {},
   "outputs": [],
   "source": [
    "plot_pca(weak_labelled, key)"
   ]
  },
  {
   "cell_type": "markdown",
   "metadata": {},
   "source": [
    "Compared to the UMAP representation the PCA reduction shows more separation of both labels. The `0`-labels show a relatively dense plane on top of the `1`-labeled embeddings. Though it needs to be said that neither of the classes is separated clearly, the noted observation just describes a tendency that gets visible through PCA."
   ]
  },
  {
   "cell_type": "markdown",
   "metadata": {},
   "source": [
    "### Logistic Regression Weak Labeling"
   ]
  },
  {
   "cell_type": "code",
   "execution_count": null,
   "metadata": {},
   "outputs": [],
   "source": [
    "log_reg_key = 'log_reg_weak_labeling_weaklabels.parquet'\n",
    "\n",
    "log_reg_wl_ds = create_dataset('log_reg', weak_labelled[log_reg_key], \n",
    "                           weak_labelled[log_reg_key]['embedding_vec'], \n",
    "                           weak_labelled[log_reg_key]['label'])\n",
    "\n",
    "px_session = launch_px(log_reg_wl_ds, None)\n",
    "px_session.view()"
   ]
  },
  {
   "cell_type": "code",
   "execution_count": null,
   "metadata": {},
   "outputs": [],
   "source": [
    "plot_pca(weak_labelled, log_reg_key)"
   ]
  },
  {
   "cell_type": "markdown",
   "metadata": {},
   "source": [
    "### Multi-Layer Perceptron Weak Labelling"
   ]
  },
  {
   "cell_type": "code",
   "execution_count": null,
   "metadata": {},
   "outputs": [],
   "source": [
    "mlp_key = 'mlp_weak_labeling_weaklabels.parquet'\n",
    "\n",
    "mlp_wl_ds = create_dataset('mlp_reg', weak_labelled[mlp_key], \n",
    "                           weak_labelled[mlp_key]['embedding_vec'], \n",
    "                           weak_labelled[mlp_key]['label'])\n",
    "\n",
    "px_session = launch_px(mlp_wl_ds, None)\n",
    "px_session.view()"
   ]
  },
  {
   "cell_type": "code",
   "execution_count": null,
   "metadata": {},
   "outputs": [],
   "source": [
    "plot_pca(weak_labelled, mlp_key)"
   ]
  },
  {
   "cell_type": "markdown",
   "metadata": {},
   "source": [
    "### Random Forest Weak Labelling"
   ]
  },
  {
   "cell_type": "code",
   "execution_count": null,
   "metadata": {},
   "outputs": [],
   "source": [
    "rf_key = 'rf_weak_labeling_weaklabels.parquet'\n",
    "\n",
    "rf_wl_ds = create_dataset('rf_reg', weak_labelled[rf_key], \n",
    "                           weak_labelled[rf_key]['embedding_vec'], \n",
    "                           weak_labelled[rf_key]['label'])\n",
    "\n",
    "px_session = launch_px(rf_wl_ds, None)\n",
    "px_session.view()"
   ]
  },
  {
   "cell_type": "code",
   "execution_count": null,
   "metadata": {},
   "outputs": [],
   "source": [
    "plot_pca(weak_labelled, rf_key)"
   ]
  },
  {
   "cell_type": "markdown",
   "metadata": {},
   "source": [
    "### Support Vector Machine Weak Labelling"
   ]
  },
  {
   "cell_type": "code",
   "execution_count": null,
   "metadata": {},
   "outputs": [],
   "source": [
    "svm_key = 'svm_weak_labeling_weaklabels.parquet'\n",
    "\n",
    "svm_wl_ds = create_dataset('svm_reg', weak_labelled[svm_key], \n",
    "                           weak_labelled[svm_key]['embedding_vec'], \n",
    "                           weak_labelled[svm_key]['label'])\n",
    "\n",
    "px_session = launch_px(svm_wl_ds, None)\n",
    "px_session.view()"
   ]
  },
  {
   "cell_type": "code",
   "execution_count": null,
   "metadata": {},
   "outputs": [],
   "source": [
    "plot_pca(weak_labelled, svm_key)"
   ]
  }
 ],
 "metadata": {
  "kernelspec": {
   "display_name": ".venv",
   "language": "python",
   "name": "python3"
  },
  "language_info": {
   "codemirror_mode": {
    "name": "ipython",
    "version": 3
   },
   "file_extension": ".py",
   "mimetype": "text/x-python",
   "name": "python",
   "nbconvert_exporter": "python",
   "pygments_lexer": "ipython3",
   "version": "3.12.0"
  }
 },
 "nbformat": 4,
 "nbformat_minor": 2
}
