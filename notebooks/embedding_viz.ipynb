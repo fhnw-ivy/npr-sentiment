{
 "cells": [
  {
   "metadata": {},
   "cell_type": "markdown",
   "source": "# Visualizing Embeddings",
   "id": "a50f3da9200fbd6e"
  },
  {
   "metadata": {},
   "cell_type": "code",
   "outputs": [],
   "execution_count": null,
   "source": [
    "# ## TODO WIP is broke but ideally I want to extract the embeddings and predictions from the model and add them to the dataset so we can look at them in phoenix\n",
    "# def postprocess(batch):\n",
    "#     inputs = {k:v.to(device) for k,v in batch.items() if k in tokenizer.model_input_names}\n",
    "#     with torch.no_grad():\n",
    "#         out = model(**inputs)                         # Extract prediction labels\n",
    "#         pred_label = out.logits.argmax(dim=1)           # Extract embedding vectors\n",
    "#         hidden_states = torch.stack(out.hidden_states)  # (layer_#, batch_size, seq_length/or/num_tokens, hidden_size)\n",
    "#         embeddings = hidden_states[-1][:,0,:]           # Select last layer, then CLS token vector\n",
    "#     return {\"text_vector\": embeddings.cpu().numpy(), \"pred_label\": pred_label.cpu().numpy()}\n",
    "# \n",
    "# batch_size = 100\n",
    "# \n",
    "# \n",
    "# train_ds.set_format(\"torch\", columns=[\"input_ids\", \"attention_mask\"])\n",
    "# train_ds = train_ds.map(postprocess, batched=True, batch_size=batch_size)\n",
    "# \n",
    "# test_ds.set_format(\"torch\", columns=[\"input_ids\", \"attention_mask\"])\n",
    "# test_ds = test_ds.map(postprocess, batched=True, batch_size=batch_size)"
   ],
   "id": "4aed55b62783aa29"
  },
  {
   "metadata": {},
   "cell_type": "code",
   "outputs": [],
   "execution_count": null,
   "source": [
    "# def postprocess(batch, model, tokenizer, device):\n",
    "#     inputs = {k: v.to(device) for k, v in batch.items() if k in tokenizer.model_input_names}\n",
    "#     \n",
    "#     with torch.no_grad():\n",
    "#         out = model(**inputs)\n",
    "#         pred_label = out.logits.argmax(dim=1)\n",
    "#         hidden_states = torch.stack(out.hidden_states)\n",
    "#         embeddings = hidden_states[-1][:, 0, :]\n",
    "#     \n",
    "#     return {\"text_vector\": embeddings.cpu().numpy(), \"pred_label\": pred_label.cpu().numpy()}\n",
    "# \n",
    "# def apply_postprocess_to_dataset(dataset, model, tokenizer, device, batch_size):\n",
    "#     dataset.set_format(\"torch\", columns=[\"input_ids\", \"attention_mask\"])\n",
    "#     return dataset.map(lambda batch: postprocess(batch, model, tokenizer, device),\n",
    "#                        batched=True, batch_size=batch_size)\n",
    "# \n",
    "# batch_size = 100\n",
    "# train_ds = apply_postprocess_to_dataset(train_ds, model, tokenizer, device, batch_size)\n",
    "# test_ds = apply_postprocess_to_dataset(test_ds, model, tokenizer, device, batch_size)"
   ],
   "id": "4c25aac1c6d66b87"
  }
 ],
 "metadata": {
  "kernelspec": {
   "display_name": "Python 3",
   "language": "python",
   "name": "python3"
  },
  "language_info": {
   "codemirror_mode": {
    "name": "ipython",
    "version": 2
   },
   "file_extension": ".py",
   "mimetype": "text/x-python",
   "name": "python",
   "nbconvert_exporter": "python",
   "pygments_lexer": "ipython2",
   "version": "2.7.6"
  }
 },
 "nbformat": 4,
 "nbformat_minor": 5
}
