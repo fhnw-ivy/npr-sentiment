{
 "cells": [
  {
   "metadata": {},
   "cell_type": "code",
   "source": [
    "from dotenv import load_dotenv\n",
    "import os\n",
    "import sys\n",
    "import pandas as pd\n",
    "\n",
    "load_dotenv()\n",
    "\n",
    "current_dir = os.getcwd()\n",
    "parent_dir = os.path.dirname(current_dir)\n",
    "sys.path.append(parent_dir)\n",
    "\n",
    "from src.data_loader import load_datasets\n",
    "from src.weaklabel_pipeline import WeakLabelingPipeline\n",
    "\n",
    "DATA_DIR = os.getenv('DATA_DIR')"
   ],
   "outputs": [],
   "execution_count": null
  },
  {
   "cell_type": "markdown",
   "metadata": {},
   "source": [
    "# Pipeline Sandbox\n",
    "This notebook contains an example showing the usage of `WeakLabelingPipeline`."
   ]
  },
  {
   "cell_type": "code",
   "metadata": {},
   "source": [
    "labelled_dev, unlabelled_dev, val_set = load_datasets(DATA_DIR)\n",
    "df = unlabelled_dev"
   ],
   "outputs": [],
   "execution_count": null
  },
  {
   "cell_type": "markdown",
   "metadata": {},
   "source": [
    "## Pipeline usage"
   ]
  },
  {
   "cell_type": "code",
   "metadata": {},
   "source": [
    "wl_pipeline = WeakLabelingPipeline('wl_knn.pkl')\n",
    "wl_pipeline.run(df)\n",
    "wl_pipeline.save_results('weaklabeled_knn_dev.parquet')"
   ],
   "outputs": [],
   "execution_count": null
  },
  {
   "cell_type": "code",
   "metadata": {},
   "source": [
    "\n",
    "df_weaklabeled = pd.read_parquet(f'{DATA_DIR}/weaklabeled_knn_dev.parquet')\n",
    "df_weaklabeled.head(5)"
   ],
   "outputs": [],
   "execution_count": null
  }
 ],
 "metadata": {
  "kernelspec": {
   "display_name": ".venv",
   "language": "python",
   "name": "python3"
  },
  "language_info": {
   "codemirror_mode": {
    "name": "ipython",
    "version": 3
   },
   "file_extension": ".py",
   "mimetype": "text/x-python",
   "name": "python",
   "nbconvert_exporter": "python",
   "pygments_lexer": "ipython3",
   "version": "3.12.0"
  }
 },
 "nbformat": 4,
 "nbformat_minor": 2
}
