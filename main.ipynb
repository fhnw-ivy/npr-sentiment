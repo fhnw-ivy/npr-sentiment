{
 "cells": [
  {
   "metadata": {},
   "cell_type": "markdown",
   "source": [
    "# npr MC2: Sentiment Analysis\n",
    "\n",
    "> Dominik Filliger, Nils Fahrni, Noah Leuenberger (2024)"
   ],
   "id": "b7084ffefb04cc79"
  },
  {
   "cell_type": "code",
   "id": "initial_id",
   "metadata": {
    "collapsed": true
   },
   "source": [
    ""
   ],
   "outputs": [],
   "execution_count": null
  }
 ],
 "metadata": {
  "kernelspec": {
   "display_name": "Python 3",
   "language": "python",
   "name": "python3"
  },
  "language_info": {
   "codemirror_mode": {
    "name": "ipython",
    "version": 2
   },
   "file_extension": ".py",
   "mimetype": "text/x-python",
   "name": "python",
   "nbconvert_exporter": "python",
   "pygments_lexer": "ipython2",
   "version": "2.7.6"
  }
 },
 "nbformat": 4,
 "nbformat_minor": 5
}
