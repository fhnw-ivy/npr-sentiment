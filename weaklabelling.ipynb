{
 "cells": [
  {
   "metadata": {},
   "cell_type": "code",
   "source": [
    "import os\n",
    "\n",
    "DEV_SET_FRAC = 0.001\n",
    "OVERWRITE_SETS_WITH_DEV = True\n",
    "os.environ[\"WANDB_PROJECT\"]=\"lang-based-yappers/amazon_sentiment_analysis\"\n",
    "SEED = 1337"
   ],
   "outputs": [],
   "execution_count": null
  },
  {
   "metadata": {},
   "cell_type": "code",
   "source": [
    "import random\n",
    "\n",
    "import numpy as np\n",
    "import torch\n",
    "\n",
    "torch.use_deterministic_algorithms(True)\n",
    "\n",
    "device = torch.device('cuda') if torch.cuda.is_available() else torch.device('mps') if torch.backends.mps.is_available() else torch.device('cpu')\n",
    "print('Device:', device)\n",
    "\n",
    "def set_seed():\n",
    "    random.seed(SEED)\n",
    "    np.random.seed(SEED)\n",
    "    \n",
    "    torch.manual_seed(SEED)\n",
    "    if torch.cuda.is_available():\n",
    "        torch.cuda.manual_seed(SEED)\n",
    "        torch.cuda.manual_seed_all(SEED)\n",
    "\n",
    "    torch.backends.cudnn.deterministic = True\n",
    "    torch.backends.cudnn.benchmark = False\n",
    "\n",
    "set_seed()"
   ],
   "outputs": [],
   "execution_count": null
  },
  {
   "metadata": {},
   "cell_type": "code",
   "source": [
    "from datasets import load_dataset\n",
    "\n",
    "dataset = load_dataset(\"amazon_polarity\")\n",
    "dataset"
   ],
   "outputs": [],
   "execution_count": null
  },
  {
   "metadata": {},
   "cell_type": "code",
   "source": [
    "train_ds, test_ds = dataset['train'], dataset['test']\n",
    "train_df, test_df = train_ds.to_pandas(), test_ds.to_pandas()"
   ],
   "outputs": [],
   "execution_count": null
  },
  {
   "metadata": {},
   "cell_type": "code",
   "source": [
    "train_df_dev = train_df.sample(frac=DEV_SET_FRAC, random_state=1337)\n",
    "test_df_dev = test_df.sample(frac=DEV_SET_FRAC, random_state=1337)\n",
    "\n",
    "if OVERWRITE_SETS_WITH_DEV:\n",
    "    train_df = train_df_dev\n",
    "    test_df = test_df_dev\n",
    "    \n",
    "    train_ds = train_ds.select(range(len(train_df)))\n",
    "    test_ds = test_ds.select(range(len(test_df)))\n",
    "\n",
    "y_train, y_test = train_df['label'], test_df['label']\n",
    "print(f\"Training data shape: {train_df_dev.shape}, Testing data shape: {test_df_dev.shape}\")"
   ],
   "outputs": [],
   "execution_count": null
  },
  {
   "metadata": {},
   "cell_type": "markdown",
   "source": "# Embedding"
  },
  {
   "metadata": {},
   "cell_type": "markdown",
   "source": "## TF-IDF"
  },
  {
   "cell_type": "code",
   "metadata": {},
   "source": [
    "from sklearn.feature_extraction.text import TfidfVectorizer\n",
    "\n",
    "def fit_tf_idf_vectorizer(train_df, test_df):\n",
    "    vectorizer = TfidfVectorizer(stop_words='english', max_features=10000)\n",
    "    X_train_tfidf = vectorizer.fit_transform(train_df['content'])\n",
    "    X_test_tfidf = vectorizer.transform(test_df['content'])\n",
    "    return X_train_tfidf, X_test_tfidf\n",
    "\n",
    "X_train_tfidf, X_test_tfidf = fit_tf_idf_vectorizer(train_df, test_df)"
   ],
   "outputs": [],
   "execution_count": null
  },
  {
   "metadata": {},
   "cell_type": "markdown",
   "source": "## BERT with Average Pooling"
  },
  {
   "metadata": {},
   "cell_type": "code",
   "source": [
    "from transformers import AutoTokenizer, BertModel\n",
    "import torch\n",
    "\n",
    "tokenizer = AutoTokenizer.from_pretrained(\"google-bert/bert-base-uncased\", force_download=True)\n",
    "\n",
    "model = BertModel.from_pretrained(\"google-bert/bert-base-uncased\", force_download=True)\n",
    "model.to(device)\n",
    "\n",
    "def get_bert_embedding(text):\n",
    "    inputs = tokenizer(text, return_tensors=\"pt\")\n",
    "    with torch.no_grad():\n",
    "        outputs = model(**inputs)\n",
    "        last_hidden_states = outputs.last_hidden_state\n",
    "        return last_hidden_states\n",
    "\n",
    "def get_sentence_embedding(text):\n",
    "    with torch.no_grad():\n",
    "        last_hidden_states = get_bert_embedding(text)\n",
    "        return torch.mean(last_hidden_states, dim=1).squeeze()\n",
    "    \n",
    "def fit_bert_vectorizer(train_df, test_df):\n",
    "    X_train_bert = torch.stack([get_sentence_embedding(text) for text in train_df['content']])\n",
    "    X_test_bert = torch.stack([get_sentence_embedding(text) for text in test_df['content']])\n",
    "    return X_train_bert, X_test_bert\n",
    "\n",
    "X_train_bert, X_test_bert = fit_bert_vectorizer(train_df, test_df)"
   ],
   "outputs": [],
   "execution_count": null
  },
  {
   "cell_type": "markdown",
   "metadata": {},
   "source": [
    "## KNeighbors Weak Labeling"
   ]
  },
  {
   "cell_type": "code",
   "metadata": {},
   "source": [
    "from sklearn.neighbors import KNeighborsClassifier\n",
    "\n",
    "knn = KNeighborsClassifier(n_neighbors=3)\n",
    "knn.fit(X_train_bert, y_train)"
   ],
   "outputs": [],
   "execution_count": null
  },
  {
   "cell_type": "code",
   "metadata": {},
   "source": "y_pred = knn.predict(X_test_bert)",
   "outputs": [],
   "execution_count": null
  },
  {
   "metadata": {},
   "cell_type": "code",
   "source": [
    "from sklearn.metrics import classification_report, accuracy_score\n",
    "\n",
    "print(classification_report(test_df['label'], y_pred))\n",
    "print(f\"Accuracy: {accuracy_score(test_df['label'], y_pred)}\")"
   ],
   "outputs": [],
   "execution_count": null
  },
  {
   "metadata": {},
   "cell_type": "markdown",
   "source": ""
  }
 ],
 "metadata": {
  "kernelspec": {
   "display_name": ".venv",
   "language": "python",
   "name": "python3"
  },
  "language_info": {
   "codemirror_mode": {
    "name": "ipython",
    "version": 3
   },
   "file_extension": ".py",
   "mimetype": "text/x-python",
   "name": "python",
   "nbconvert_exporter": "python",
   "pygments_lexer": "ipython3",
   "version": "3.12.0"
  }
 },
 "nbformat": 4,
 "nbformat_minor": 2
}
