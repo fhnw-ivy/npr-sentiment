{
 "cells": [
  {
   "cell_type": "code",
   "execution_count": 6,
   "id": "initial_id",
   "metadata": {
    "collapsed": true,
    "ExecuteTime": {
     "end_time": "2024-03-19T21:07:05.297165Z",
     "start_time": "2024-03-19T21:07:00.484056Z"
    }
   },
   "outputs": [],
   "source": [
    "from datasets import load_dataset\n",
    "\n",
    "dataset = load_dataset(\"amazon_polarity\")\n",
    "dataset"
   ]
  },
  {
   "cell_type": "code",
   "outputs": [],
   "source": [
    "dataset.set_format(\"pandas\")"
   ],
   "metadata": {
    "collapsed": false,
    "ExecuteTime": {
     "end_time": "2024-03-19T21:07:05.300679Z",
     "start_time": "2024-03-19T21:07:05.298150Z"
    }
   },
   "id": "bc69e8b7fb9f0a2a",
   "execution_count": 7
  },
  {
   "cell_type": "code",
   "outputs": [],
   "source": [],
   "metadata": {
    "collapsed": false
   },
   "id": "39113933d8b88e89"
  },
  {
   "cell_type": "code",
   "outputs": [
    {
     "name": "stdout",
     "output_type": "stream",
     "text": [
      "\u001B[33m  arize.utils.logging | WARNING | No available GPU has been detected. The use of GPU acceleration is strongly recommended. You can check for GPU availability by running `torch.cuda.is_available()`\u001B[0m\n",
      "\u001B[38;21m  arize.utils.logging | INFO | Downloading pre-trained model 'arize-ai/distilbert_reviews_with_language_drift'\u001B[0m\n",
      "\u001B[38;21m  arize.utils.logging | INFO | Downloading tokenizer for 'arize-ai/distilbert_reviews_with_language_drift'\u001B[0m\n"
     ]
    }
   ],
   "source": [
    "from arize.pandas.embeddings import EmbeddingGenerator, UseCases\n",
    "model_name = \"arize-ai/distilbert_reviews_with_language_drift\"\n",
    "generator = EmbeddingGenerator.from_use_case(\n",
    "    use_case=UseCases.NLP.SEQUENCE_CLASSIFICATION,\n",
    "    model_name=model_name,\n",
    ")\n"
   ],
   "metadata": {
    "collapsed": false,
    "ExecuteTime": {
     "end_time": "2024-03-19T21:07:06.089800Z",
     "start_time": "2024-03-19T21:07:05.301471Z"
    }
   },
   "id": "8733d4c9c0600f92",
   "execution_count": 8
  },
  {
   "cell_type": "code",
   "outputs": [],
   "source": [
    "train_df = dataset[\"train\"][:1000]\n",
    "test_df = dataset[\"test\"][:100]"
   ],
   "metadata": {
    "collapsed": false,
    "ExecuteTime": {
     "end_time": "2024-03-19T21:13:01.075377Z",
     "start_time": "2024-03-19T21:13:01.032112Z"
    }
   },
   "id": "b49c3ea533e6e208",
   "execution_count": 12
  },
  {
   "cell_type": "code",
   "outputs": [
    {
     "name": "stdout",
     "output_type": "stream",
     "text": [
      "\u001B[38;21m  arize.utils.logging | INFO | Generating embedding vectors\u001B[0m\n"
     ]
    },
    {
     "data": {
      "text/plain": "Map:   0%|          | 0/1000 [00:00<?, ? examples/s]",
      "application/vnd.jupyter.widget-view+json": {
       "version_major": 2,
       "version_minor": 0,
       "model_id": "376d6346a50b42a694bb1322ea88129b"
      }
     },
     "metadata": {},
     "output_type": "display_data"
    },
    {
     "name": "stdout",
     "output_type": "stream",
     "text": [
      "\u001B[38;21m  arize.utils.logging | INFO | Generating embedding vectors\u001B[0m\n"
     ]
    },
    {
     "data": {
      "text/plain": "Map:   0%|          | 0/100 [00:00<?, ? examples/s]",
      "application/vnd.jupyter.widget-view+json": {
       "version_major": 2,
       "version_minor": 0,
       "model_id": "bdb1db8df5ce4e7e9d3d8b6a4283c951"
      }
     },
     "metadata": {},
     "output_type": "display_data"
    }
   ],
   "source": [
    "train_df[\"content_vector\"] = generator.generate_embeddings(text_col=train_df[\"content\"])\n",
    "test_df[\"content_vector\"] = generator.generate_embeddings(text_col=test_df[\"content\"])"
   ],
   "metadata": {
    "collapsed": false,
    "ExecuteTime": {
     "end_time": "2024-03-19T21:13:46.702310Z",
     "start_time": "2024-03-19T21:13:02.018680Z"
    }
   },
   "id": "e987ea70df5a2e87",
   "execution_count": 13
  },
  {
   "cell_type": "code",
   "outputs": [],
   "source": [
    "import phoenix as px\n",
    "\n",
    "\n",
    "schema = px.Schema(\n",
    "    actual_label_column_name=\"label\",\n",
    "    embedding_feature_column_names={\n",
    "        \"text_embedding\": px.EmbeddingColumnNames(\n",
    "            vector_column_name=\"content_vector\", raw_data_column_name=\"content\"\n",
    "        ),\n",
    "    },\n",
    ")\n",
    "\n",
    "\n",
    "prod_ds = px.Dataset(dataframe=test_df, schema=schema, name=\"testing\")\n",
    "train_ds = px.Dataset(dataframe=train_df, schema=schema, name=\"training\")\n",
    "\n"
   ],
   "metadata": {
    "collapsed": false,
    "ExecuteTime": {
     "end_time": "2024-03-19T21:14:35.227311Z",
     "start_time": "2024-03-19T21:14:35.112219Z"
    }
   },
   "id": "c6f7e7773ce26746",
   "execution_count": 14
  },
  {
   "cell_type": "code",
   "outputs": [
    {
     "name": "stdout",
     "output_type": "stream",
     "text": [
      "🌍 To view the Phoenix app in your browser, visit http://localhost:6006/\n",
      "📺 To view the Phoenix app in a notebook, run `px.active_session().view()`\n",
      "📖 For more information on how to use Phoenix, check out https://docs.arize.com/phoenix\n"
     ]
    }
   ],
   "source": [
    "session = px.launch_app(primary=prod_ds, reference=train_ds)\n"
   ],
   "metadata": {
    "collapsed": false,
    "ExecuteTime": {
     "end_time": "2024-03-19T21:14:41.132228Z",
     "start_time": "2024-03-19T21:14:40.533545Z"
    }
   },
   "id": "9f8aea708868892e",
   "execution_count": 15
  },
  {
   "cell_type": "code",
   "outputs": [
    {
     "name": "stdout",
     "output_type": "stream",
     "text": [
      "📺 Opening a view to the Phoenix app. The app is running at http://localhost:6006/\n"
     ]
    },
    {
     "data": {
      "text/plain": "<IPython.lib.display.IFrame at 0x318811f10>",
      "text/html": "\n        <iframe\n            width=\"100%\"\n            height=\"1000\"\n            src=\"http://localhost:6006/\"\n            frameborder=\"0\"\n            allowfullscreen\n            \n        ></iframe>\n        "
     },
     "execution_count": 16,
     "metadata": {},
     "output_type": "execute_result"
    }
   ],
   "source": [
    "px.active_session().view()"
   ],
   "metadata": {
    "collapsed": false,
    "ExecuteTime": {
     "end_time": "2024-03-19T21:14:57.637363Z",
     "start_time": "2024-03-19T21:14:57.629940Z"
    }
   },
   "id": "165d3db509f5064",
   "execution_count": 16
  },
  {
   "cell_type": "code",
   "outputs": [],
   "source": [],
   "metadata": {
    "collapsed": false
   },
   "id": "aad0501f22d42d09"
  }
 ],
 "metadata": {
  "kernelspec": {
   "display_name": "Python 3",
   "language": "python",
   "name": "python3"
  },
  "language_info": {
   "codemirror_mode": {
    "name": "ipython",
    "version": 2
   },
   "file_extension": ".py",
   "mimetype": "text/x-python",
   "name": "python",
   "nbconvert_exporter": "python",
   "pygments_lexer": "ipython2",
   "version": "2.7.6"
  }
 },
 "nbformat": 4,
 "nbformat_minor": 5
}
