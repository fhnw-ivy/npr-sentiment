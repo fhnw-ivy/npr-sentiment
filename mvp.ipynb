{
 "cells": [
  {
   "cell_type": "code",
   "execution_count": null,
   "id": "initial_id",
   "metadata": {
    "collapsed": true
   },
   "outputs": [],
   "source": [
    "from datasets import load_dataset\n",
    "\n",
    "dataset = load_dataset(\"amazon_polarity\")\n",
    "dataset"
   ]
  },
  {
   "cell_type": "code",
   "outputs": [],
   "source": [
    "dataset.set_format(\"pandas\")"
   ],
   "metadata": {
    "collapsed": false
   },
   "id": "bc69e8b7fb9f0a2a",
   "execution_count": null
  },
  {
   "cell_type": "code",
   "outputs": [],
   "source": [],
   "metadata": {
    "collapsed": false
   },
   "id": "39113933d8b88e89"
  },
  {
   "cell_type": "code",
   "outputs": [],
   "source": [
    "from arize.pandas.embeddings import EmbeddingGenerator, UseCases\n",
    "model_name = \"arize-ai/distilbert_reviews_with_language_drift\"\n",
    "generator = EmbeddingGenerator.from_use_case(\n",
    "    use_case=UseCases.NLP.SEQUENCE_CLASSIFICATION,\n",
    "    model_name=model_name,\n",
    ")\n"
   ],
   "metadata": {
    "collapsed": false
   },
   "id": "8733d4c9c0600f92",
   "execution_count": null
  },
  {
   "cell_type": "code",
   "outputs": [],
   "source": [
    "train_df = dataset[\"train\"][:1000]\n",
    "test_df = dataset[\"test\"][:100]"
   ],
   "metadata": {
    "collapsed": false
   },
   "id": "b49c3ea533e6e208",
   "execution_count": null
  },
  {
   "cell_type": "code",
   "outputs": [],
   "source": [
    "train_df[\"content_vector\"] = generator.generate_embeddings(text_col=train_df[\"content\"])\n",
    "test_df[\"content_vector\"] = generator.generate_embeddings(text_col=test_df[\"content\"])"
   ],
   "metadata": {
    "collapsed": false
   },
   "id": "e987ea70df5a2e87",
   "execution_count": null
  },
  {
   "cell_type": "code",
   "outputs": [],
   "source": [
    "import phoenix as px\n",
    "\n",
    "\n",
    "schema = px.Schema(\n",
    "    actual_label_column_name=\"label\",\n",
    "    embedding_feature_column_names={\n",
    "        \"text_embedding\": px.EmbeddingColumnNames(\n",
    "            vector_column_name=\"content_vector\", raw_data_column_name=\"content\"\n",
    "        ),\n",
    "    },\n",
    ")\n",
    "\n",
    "\n",
    "prod_ds = px.Dataset(dataframe=test_df, schema=schema, name=\"testing\")\n",
    "train_ds = px.Dataset(dataframe=train_df, schema=schema, name=\"training\")\n",
    "\n"
   ],
   "metadata": {
    "collapsed": false
   },
   "id": "c6f7e7773ce26746",
   "execution_count": null
  },
  {
   "cell_type": "code",
   "outputs": [],
   "source": [
    "session = px.launch_app(primary=prod_ds, reference=train_ds)\n"
   ],
   "metadata": {
    "collapsed": false
   },
   "id": "9f8aea708868892e",
   "execution_count": null
  },
  {
   "cell_type": "code",
   "outputs": [],
   "source": [
    "px.active_session().view()"
   ],
   "metadata": {
    "collapsed": false
   },
   "id": "165d3db509f5064",
   "execution_count": null
  },
  {
   "cell_type": "code",
   "outputs": [],
   "source": [],
   "metadata": {
    "collapsed": false
   },
   "id": "aad0501f22d42d09"
  }
 ],
 "metadata": {
  "kernelspec": {
   "display_name": "Python 3",
   "language": "python",
   "name": "python3"
  },
  "language_info": {
   "codemirror_mode": {
    "name": "ipython",
    "version": 2
   },
   "file_extension": ".py",
   "mimetype": "text/x-python",
   "name": "python",
   "nbconvert_exporter": "python",
   "pygments_lexer": "ipython2",
   "version": "2.7.6"
  }
 },
 "nbformat": 4,
 "nbformat_minor": 5
}
